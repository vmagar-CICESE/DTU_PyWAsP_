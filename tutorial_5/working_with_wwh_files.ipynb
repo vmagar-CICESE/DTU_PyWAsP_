{
 "cells": [
  {
   "cell_type": "markdown",
   "metadata": {},
   "source": [
    "# <center> *PyWAsP* tutorial 5 <br><br> Importing objects from WWH file <center>\n",
    "\n",
    "\n",
    "In this tutorial we will cover a `pywasp` feature that lets users import objects from `WAsP` workspace file (`wwh` file) and perform `pywasp` calculations with them. We will use an example of 'Parque Ficticio' workspace, which is a common example from `WAsP` courses. For this location we will generate site effectes and predicted wind climate over a uniform grid.\n",
    "\n",
    "First let's import necessary libraries and read WAsP Workspace file (`wwh`) and list its content:"
   ]
  },
  {
   "cell_type": "code",
   "execution_count": 1,
   "metadata": {},
   "outputs": [],
   "source": [
    "import warnings\n",
    "warnings.filterwarnings('ignore')  # We will ignore warnings to avoid cluttering the notebook\n",
    "\n",
    "import pywasp as pw\n",
    "import numpy as np"
   ]
  },
  {
   "cell_type": "code",
   "execution_count": 2,
   "metadata": {},
   "outputs": [
    {
     "data": {
      "text/plain": [
       " Object ID        Object description\n",
       "         3                Vector map\n",
       "         4        Turbine site group\n",
       "        15  Generalised wind climate\n",
       "        17     Observed wind climate\n",
       "        20                Vector map"
      ]
     },
     "execution_count": 2,
     "metadata": {},
     "output_type": "execute_result"
    }
   ],
   "source": [
    "wwh = pw.io.Workspace.read_wwh('./data/import/ParqueFicticio.wwh')\n",
    "wwh"
   ]
  },
  {
   "cell_type": "markdown",
   "metadata": {},
   "source": [
    "The listed objects can be imported as `pywasp` `xarray` datasets by calling specifing `geter` methods and suppling  the desired object `id` and depending on the object type also some additional parameters. First thing to notice is that we have two ids assigned to vector map objects. These two vector maps are identical.  The reason why there two ids/ two maps is that each id tells `WAsP` to read the vector map differently, one as an `elevation` map while the second as a `roughness` map. As you will see later in this tutorial we do this a bit different in `pywasp` comparing to `WAsP` GUI. \n",
    "\n",
    "Let's now start importing listed objects and as an exercise exporting them as `NetCDF` files.\n",
    "Let's start with `Observed Wind Climate`. To get the `OWC`, we call method `get_owc()` and provide id of this object:"
   ]
  },
  {
   "cell_type": "code",
   "execution_count": 3,
   "metadata": {},
   "outputs": [
    {
     "name": "stdout",
     "output_type": "stream",
     "text": [
      "<xarray.Dataset>\n",
      "Dimensions:      (point: 1, sector: 12, wsbin: 27)\n",
      "Coordinates:\n",
      "  * wsbin        (wsbin) float64 0.5 1.5 2.5 3.5 4.5 ... 23.5 24.5 25.5 26.5\n",
      "  * sector       (sector) float64 0.0 30.0 60.0 90.0 ... 240.0 270.0 300.0 330.0\n",
      "    south_north  (point) float64 -31.5\n",
      "    west_east    (point) float64 -71.5\n",
      "    height       (point) float64 42.25\n",
      "    wsceil       (wsbin) float64 1.0 2.0 3.0 4.0 5.0 ... 24.0 25.0 26.0 27.0\n",
      "    crs          int64 0\n",
      "Dimensions without coordinates: point\n",
      "Data variables:\n",
      "    wdfreq       (sector, point) float64 0.0706 0.0318 0.04788 ... 0.1284 0.0883\n",
      "    wsfreq       (wsbin, sector, point) float64 0.02467 0.01616 ... 0.0002156\n",
      "    amplif       float64 1.0\n",
      "    offset       float64 0.0\n",
      "Attributes:\n",
      "    header:   Cerro\n"
     ]
    }
   ],
   "source": [
    "bwc = wwh.get_owc(17)\n",
    "print(bwc)"
   ]
  },
  {
   "cell_type": "code",
   "execution_count": 4,
   "metadata": {},
   "outputs": [],
   "source": [
    "bwc.to_netcdf('./data/export/bwc.nc')"
   ]
  },
  {
   "cell_type": "markdown",
   "metadata": {},
   "source": [
    "In a similar fashion we are importing `Generalised wind climate`, and exporting it to `NetCDF` file:"
   ]
  },
  {
   "cell_type": "code",
   "execution_count": 5,
   "metadata": {},
   "outputs": [
    {
     "name": "stdout",
     "output_type": "stream",
     "text": [
      "<xarray.Dataset>\n",
      "Dimensions:        (gen_height: 5, gen_roughness: 5, point: 1, sector: 12)\n",
      "Coordinates:\n",
      "  * gen_roughness  (gen_roughness) float64 0.0 0.03 0.1 0.4 1.5\n",
      "  * gen_height     (gen_height) float64 10.0 25.0 50.0 100.0 200.0\n",
      "  * sector         (sector) float64 0.0 30.0 60.0 90.0 ... 270.0 300.0 330.0\n",
      "    south_north    (point) float64 -31.5\n",
      "    west_east      (point) float64 -71.5\n",
      "    height         (point) float64 42.25\n",
      "    crs            int64 0\n",
      "Dimensions without coordinates: point\n",
      "Data variables:\n",
      "    wdfreq         (sector, gen_roughness, point) float64 0.009726 ... 0.02108\n",
      "    A              (sector, gen_height, gen_roughness, point) float64 4.515 ... 5.945\n",
      "    k              (sector, gen_height, gen_roughness, point) float64 1.83 ... 1.775\n",
      "Attributes:\n",
      "    header:   Cerro\n"
     ]
    }
   ],
   "source": [
    "gwc = wwh.get_gwc(15)\n",
    "print(gwc)\n",
    "\n",
    "gwc.to_netcdf('./data/export/gwc.nc')"
   ]
  },
  {
   "cell_type": "markdown",
   "metadata": {},
   "source": [
    "Now let's load the maps.  To do this we call method `get_vectormap` which requires following parameters:\n",
    " - `id`: id of the vector map object in the wwh list (integer)\n",
    " - `srs`: EPSG code of the map\n",
    " - `map_type`: feature type to extract from mapfile, it can be 'elevation' or 'roughness'\n",
    "\n",
    "In our example the EPSG code is `32719`, since the vector map header has following information:\n",
    "```\n",
    "UTM-Proj.-S.hemisph. Zone 19 (WGS 1984) \n",
    "\n",
    "```\n",
    "\n",
    "We will extract both the elevation and roughness map, and we can supply any of the two `id`s (3 or 20). \n",
    "We will then boundle these two maps creating topo map which is needed for the follow up calculations."
   ]
  },
  {
   "cell_type": "code",
   "execution_count": 7,
   "metadata": {},
   "outputs": [],
   "source": [
    "elev_map = wwh.get_vectormap(20, 32719, \"elevation\")\n",
    "rough_map, lut = wwh.get_vectormap(20, 32719, \"roughness\")\n",
    "\n",
    "topo_map = pw.TopographyMap(elev_map, rough_map, lut)"
   ]
  },
  {
   "cell_type": "markdown",
   "metadata": {},
   "source": [
    "If we closely inspect `bwc` data we will notice that the provided geospatial location of the mast in this dataset is in the projected coordinates of the EPSG:4326 projection (i.e., south_north=latitude and west_east=longitude). However, as our terrain and rougness data are in the South UTM Zone 19 (EPSG:32719) we will convert and update the mast coordinates. Once the coordiantes are converted we will store them in in variables `loc_x` and `loc_y` for later use"
   ]
  },
  {
   "cell_type": "code",
   "execution_count": 8,
   "metadata": {},
   "outputs": [],
   "source": [
    "bwc = pw.gis_tools.reproject_ds(bwc, 32719) #\n",
    "loc_y = bwc.south_north\n",
    "loc_x = bwc.west_east"
   ]
  },
  {
   "cell_type": "markdown",
   "metadata": {},
   "source": [
    "Let's now create uniform grid, with resolution of 100 m in `west_east` and `north_south` coordinate. The grid will be positioned 200 m above the ground level. We use `pw.create_dataset` to perform this."
   ]
  },
  {
   "cell_type": "code",
   "execution_count": 9,
   "metadata": {},
   "outputs": [],
   "source": [
    "height = 200\n",
    "x_res = 100\n",
    "y_res = 100\n",
    "\n",
    "output_locs = pw.create_dataset(\n",
    "    np.arange(262878, 265078 + x_res, x_res),\n",
    "    np.arange(6504214, 6507414 + y_res, y_res),\n",
    "    np.array([height]),\n",
    "    32719\n",
    ")"
   ]
  },
  {
   "cell_type": "markdown",
   "metadata": {},
   "source": [
    "Let's now calculate predicted wind climate,  site effects, and meteorological variables, using the pw.wasp.downscale routine. We will then export this to a `NetCDF` file:"
   ]
  },
  {
   "cell_type": "code",
   "execution_count": 10,
   "metadata": {},
   "outputs": [
    {
     "name": "stdout",
     "output_type": "stream",
     "text": [
      "<xarray.Dataset>\n",
      "Dimensions:              (height: 1, sector: 12, south_north: 33, west_east: 23)\n",
      "Coordinates:\n",
      "    crs                  int64 0\n",
      "  * sector               (sector) float64 0.0 30.0 60.0 ... 270.0 300.0 330.0\n",
      "  * height               (height) int64 200\n",
      "  * south_north          (south_north) int64 6504214 6504314 ... 6507314 6507414\n",
      "  * west_east            (west_east) int64 262878 262978 ... 264978 265078\n",
      "Data variables:\n",
      "    z0meso               (sector, height, south_north, west_east) float32 0.099999994 ... 0.086560346\n",
      "    slfmeso              (sector, height, south_north, west_east) float32 1.0 ... 0.97677594\n",
      "    displ                (sector, height, south_north, west_east) float32 0.0 ... 0.0\n",
      "    user_def_speedups    (sector, height, south_north, west_east) float32 1.0 ... 1.0\n",
      "    orographic_speedups  (sector, height, south_north, west_east) float32 0.9471683 ... 1.0982621\n",
      "    obstacle_speedups    (sector, height, south_north, west_east) float32 1.0 ... 1.0\n",
      "    roughness_speedups   (sector, height, south_north, west_east) float32 1.0 ... 0.996086\n",
      "    user_def_turnings    (sector, height, south_north, west_east) float32 0.0 ... 0.0\n",
      "    orographic_turnings  (sector, height, south_north, west_east) float32 -4.7696633 ... -4.394432\n",
      "    obstacle_turnings    (sector, height, south_north, west_east) float32 0.0 ... 0.0\n",
      "    roughness_turnings   (sector, height, south_north, west_east) float32 0.0 ... 0.0\n",
      "    elev                 (height, south_north, west_east) float32 174.85487 ... 264.26984\n",
      "    rix                  (height, south_north, west_east) float32 0.08834291 ... 0.0994261\n",
      "    dirrix               (sector, height, south_north, west_east) float32 0.109095655 ... 0.018267788\n",
      "    A                    (sector, height, south_north, west_east) float32 5.847679 ... 7.3445773\n",
      "    k                    (sector, height, south_north, west_east) float32 1.9941406 ... 1.7480469\n",
      "    wdfreq               (sector, height, south_north, west_east) float32 0.05280273 ... 0.09509093\n",
      "    A_tot                (height, south_north, west_east) float64 9.158 ... 9.33\n",
      "    k_tot                (height, south_north, west_east) float64 2.08 ... 2.08\n",
      "    wspd_sector          (sector, height, south_north, west_east) float64 5.183 ... 6.542\n",
      "    wspd                 (height, south_north, west_east) float64 8.111 ... 8.264\n",
      "    air_dens             (height, south_north, west_east) float32 1.166592 ... 1.1567546\n",
      "    power_dens_sector    (sector, height, south_north, west_east) float64 155.5 ... 358.6\n",
      "    power_dens           (height, south_north, west_east) float64 572.3 ... 600.1\n",
      "    power_dens_emer      (height, south_north, west_east) float64 571.9 ... 599.7\n"
     ]
    }
   ],
   "source": [
    "conf = pw.Config()\n",
    "pwc = pw.wasp.downscale(gwc, topo_map, output_locs, conf, genwc_interp='nearest', return_site_factors=True)\n",
    "print(pwc)\n",
    "pwc.to_netcdf('./data/export/results_'+str(height)+'_m.nc')"
   ]
  },
  {
   "cell_type": "markdown",
   "metadata": {},
   "source": [
    "Finally lets extract positions of wind turbines and their hub height. To do this we use method `get_turbines()`. This method requires `id` and `srs` as inputs and generated an `xarray` dataset with positions of wind turbines:"
   ]
  },
  {
   "cell_type": "code",
   "execution_count": 16,
   "metadata": {},
   "outputs": [
    {
     "name": "stdout",
     "output_type": "stream",
     "text": [
      "<xarray.Dataset>\n",
      "Dimensions:      (point: 8)\n",
      "Coordinates:\n",
      "    height       (point) float64 70.0 70.0 70.0 70.0 70.0 70.0 70.0 70.0\n",
      "    south_north  (point) float64 6.505e+06 6.505e+06 ... 6.506e+06 6.507e+06\n",
      "    west_east    (point) float64 2.639e+05 2.64e+05 ... 2.639e+05 2.637e+05\n",
      "    crs          int64 0\n",
      "Dimensions without coordinates: point\n",
      "Data variables:\n",
      "    output       (point) float64 0.0 0.0 0.0 0.0 0.0 0.0 0.0 0.0\n"
     ]
    }
   ],
   "source": [
    "wtg_pos = wwh.get_turbines(4, 32719)\n",
    "print(wtg_pos)"
   ]
  }
 ],
 "metadata": {
  "kernelspec": {
   "display_name": "Python 3",
   "language": "python",
   "name": "python3"
  },
  "language_info": {
   "codemirror_mode": {
    "name": "ipython",
    "version": 3
   },
   "file_extension": ".py",
   "mimetype": "text/x-python",
   "name": "python",
   "nbconvert_exporter": "python",
   "pygments_lexer": "ipython3",
   "version": "3.6.10"
  }
 },
 "nbformat": 4,
 "nbformat_minor": 4
}
